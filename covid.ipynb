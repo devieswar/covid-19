{
 "cells": [
  {
   "cell_type": "code",
   "execution_count": 475,
   "metadata": {},
   "outputs": [],
   "source": [
    "from pandas import *\n",
    "from numpy import *\n",
    "from matplotlib.pyplot import *\n",
    "from sklearn import *\n",
    "from sklearn.metrics import *"
   ]
  },
  {
   "cell_type": "code",
   "execution_count": 476,
   "metadata": {},
   "outputs": [
    {
     "name": "stdout",
     "output_type": "stream",
     "text": [
      "(10714, 28)\n",
      "          Occupation Mode_transport  cases/1M  Deaths/1M  \\\n",
      "0             Farmer         Public         2          0   \n",
      "2            Cleaner         Public         2          0   \n",
      "3             Driver            Car         2          0   \n",
      "4      Manufacturing            Car         2          0   \n",
      "5              Clerk         Public         2          0   \n",
      "...              ...            ...       ...        ...   \n",
      "10708         Farmer         Public         8          2   \n",
      "10709       Business            Car         8          2   \n",
      "10711          Clerk         Public         8          2   \n",
      "10712          Legal           Walk         8          2   \n",
      "10713       Business            Car         8          2   \n",
      "\n",
      "                  comorbidity  Age  Coma score Pulmonary score  \\\n",
      "0                Hypertension   68           8            <400   \n",
      "2                        None   19          13            <300   \n",
      "3      Coronary Heart Disease   33           9            <200   \n",
      "4                    Diabetes   23           7            <400   \n",
      "5                        None   35           9            <100   \n",
      "...                       ...  ...         ...             ...   \n",
      "10708                Diabetes   35          11            <200   \n",
      "10709                Diabetes   20          14            <400   \n",
      "10711                Diabetes   59           3            <100   \n",
      "10712  Coronary Heart Disease   49           6            <300   \n",
      "10713                Diabetes   17           7            <400   \n",
      "\n",
      "      cardiological pressure  Diuresis  ...    HBB  d-dimer  Heart rate  \\\n",
      "0                     Normal     441.0  ...   93.0    233.0        82.0   \n",
      "2                   Elevated     416.0  ...  137.0    213.0        77.0   \n",
      "3                   Stage-01     410.0  ...  167.0    275.0        64.0   \n",
      "4                     Normal     390.0  ...  153.0    331.0        71.0   \n",
      "5                   Stage-02     389.0  ...   86.0    216.0        94.0   \n",
      "...                      ...       ...  ...    ...      ...         ...   \n",
      "10708               Stage-01     397.0  ...  150.0    337.0        69.0   \n",
      "10709                 Normal     134.0  ...   24.0    209.0        61.0   \n",
      "10711               Stage-02     177.0  ...  151.0    296.0        87.0   \n",
      "10712               Elevated     352.0  ...  110.0    253.0        56.0   \n",
      "10713                 Normal     181.0  ...  134.0    201.0        82.0   \n",
      "\n",
      "       HDL cholesterol  Charlson Index  Blood Glucose  Insurance   salary  \\\n",
      "0                 58.0              27              7  3600000.0  1300000   \n",
      "2                 43.0              40              6  3400000.0   900000   \n",
      "3                 60.0              27              7   700000.0  2300000   \n",
      "4                 64.0              32              7  3200000.0  1100000   \n",
      "5                 38.0               5              5  4600000.0  1900000   \n",
      "...                ...             ...            ...        ...      ...   \n",
      "10708             44.0              31              3  3300000.0  1400000   \n",
      "10709             56.0              35              7  4000000.0   300000   \n",
      "10711             37.0              16              5  3000000.0  2100000   \n",
      "10712             70.0              28              5  2900000.0   700000   \n",
      "10713             60.0               4              3  2100000.0  1400000   \n",
      "\n",
      "       FT/month  Infect_Prob  \n",
      "0           2.0    49.135010  \n",
      "2           1.0    73.224000  \n",
      "3           1.0    48.779225  \n",
      "4           1.0    87.868800  \n",
      "5           2.0    49.518345  \n",
      "...         ...          ...  \n",
      "10708       2.0    53.741750  \n",
      "10709       0.0    41.981760  \n",
      "10711       2.0    47.708533  \n",
      "10712       1.0    53.803565  \n",
      "10713       0.0    68.342400  \n",
      "\n",
      "[6777 rows x 21 columns]\n"
     ]
    }
   ],
   "source": [
    "df=read_excel('Train_dataset.xlsx')\n",
    "print(df.shape)\n",
    "df=df.dropna(axis=0)\n",
    "df=df.drop(['people_ID' ,'Region','Gender','Designation','Name','Married','Children'],axis=1)\n",
    "print(df)"
   ]
  },
  {
   "cell_type": "code",
   "execution_count": 477,
   "metadata": {},
   "outputs": [
    {
     "data": {
      "text/plain": [
       "Occupation                False\n",
       "Mode_transport            False\n",
       "cases/1M                  False\n",
       "Deaths/1M                 False\n",
       "comorbidity               False\n",
       "Age                       False\n",
       "Coma score                False\n",
       "Pulmonary score           False\n",
       "cardiological pressure    False\n",
       "Diuresis                  False\n",
       "Platelets                 False\n",
       "HBB                       False\n",
       "d-dimer                   False\n",
       "Heart rate                False\n",
       "HDL cholesterol           False\n",
       "Charlson Index            False\n",
       "Blood Glucose             False\n",
       "Insurance                 False\n",
       "salary                    False\n",
       "FT/month                  False\n",
       "Infect_Prob               False\n",
       "dtype: bool"
      ]
     },
     "execution_count": 477,
     "metadata": {},
     "output_type": "execute_result"
    }
   ],
   "source": [
    "#ls1=['Occupation','Mode_transport','Insurance','comorbidity','cardiological pressure','Platelets','Diuresis','HBB','d-dimer','Heart rate','HDL cholesterol','FT/month']\n",
    "#mean=df.mean(axis=0)\n",
    "#for i in ls1:\n",
    "#    df[i]=df[i].fillna(method='pad')\n",
    "df.isnull().any()"
   ]
  },
  {
   "cell_type": "code",
   "execution_count": 478,
   "metadata": {},
   "outputs": [
    {
     "data": {
      "text/html": [
       "<div>\n",
       "<style scoped>\n",
       "    .dataframe tbody tr th:only-of-type {\n",
       "        vertical-align: middle;\n",
       "    }\n",
       "\n",
       "    .dataframe tbody tr th {\n",
       "        vertical-align: top;\n",
       "    }\n",
       "\n",
       "    .dataframe thead th {\n",
       "        text-align: right;\n",
       "    }\n",
       "</style>\n",
       "<table border=\"1\" class=\"dataframe\">\n",
       "  <thead>\n",
       "    <tr style=\"text-align: right;\">\n",
       "      <th></th>\n",
       "      <th>Occupation</th>\n",
       "      <th>Mode_transport</th>\n",
       "      <th>cases/1M</th>\n",
       "      <th>Deaths/1M</th>\n",
       "      <th>comorbidity</th>\n",
       "      <th>Age</th>\n",
       "      <th>Coma score</th>\n",
       "      <th>Pulmonary score</th>\n",
       "      <th>cardiological pressure</th>\n",
       "      <th>Diuresis</th>\n",
       "      <th>...</th>\n",
       "      <th>HBB</th>\n",
       "      <th>d-dimer</th>\n",
       "      <th>Heart rate</th>\n",
       "      <th>HDL cholesterol</th>\n",
       "      <th>Charlson Index</th>\n",
       "      <th>Blood Glucose</th>\n",
       "      <th>Insurance</th>\n",
       "      <th>salary</th>\n",
       "      <th>FT/month</th>\n",
       "      <th>Infect_Prob</th>\n",
       "    </tr>\n",
       "  </thead>\n",
       "  <tbody>\n",
       "    <tr>\n",
       "      <td>0</td>\n",
       "      <td>4</td>\n",
       "      <td>1</td>\n",
       "      <td>2</td>\n",
       "      <td>0</td>\n",
       "      <td>2</td>\n",
       "      <td>68</td>\n",
       "      <td>8</td>\n",
       "      <td>3</td>\n",
       "      <td>1</td>\n",
       "      <td>441.0</td>\n",
       "      <td>...</td>\n",
       "      <td>93.0</td>\n",
       "      <td>233.0</td>\n",
       "      <td>82.0</td>\n",
       "      <td>58.0</td>\n",
       "      <td>27</td>\n",
       "      <td>7</td>\n",
       "      <td>3600000.0</td>\n",
       "      <td>1300000</td>\n",
       "      <td>2.0</td>\n",
       "      <td>49.135010</td>\n",
       "    </tr>\n",
       "    <tr>\n",
       "      <td>2</td>\n",
       "      <td>1</td>\n",
       "      <td>1</td>\n",
       "      <td>2</td>\n",
       "      <td>0</td>\n",
       "      <td>3</td>\n",
       "      <td>19</td>\n",
       "      <td>13</td>\n",
       "      <td>2</td>\n",
       "      <td>0</td>\n",
       "      <td>416.0</td>\n",
       "      <td>...</td>\n",
       "      <td>137.0</td>\n",
       "      <td>213.0</td>\n",
       "      <td>77.0</td>\n",
       "      <td>43.0</td>\n",
       "      <td>40</td>\n",
       "      <td>6</td>\n",
       "      <td>3400000.0</td>\n",
       "      <td>900000</td>\n",
       "      <td>1.0</td>\n",
       "      <td>73.224000</td>\n",
       "    </tr>\n",
       "    <tr>\n",
       "      <td>3</td>\n",
       "      <td>3</td>\n",
       "      <td>0</td>\n",
       "      <td>2</td>\n",
       "      <td>0</td>\n",
       "      <td>0</td>\n",
       "      <td>33</td>\n",
       "      <td>9</td>\n",
       "      <td>1</td>\n",
       "      <td>2</td>\n",
       "      <td>410.0</td>\n",
       "      <td>...</td>\n",
       "      <td>167.0</td>\n",
       "      <td>275.0</td>\n",
       "      <td>64.0</td>\n",
       "      <td>60.0</td>\n",
       "      <td>27</td>\n",
       "      <td>7</td>\n",
       "      <td>700000.0</td>\n",
       "      <td>2300000</td>\n",
       "      <td>1.0</td>\n",
       "      <td>48.779225</td>\n",
       "    </tr>\n",
       "    <tr>\n",
       "      <td>4</td>\n",
       "      <td>6</td>\n",
       "      <td>0</td>\n",
       "      <td>2</td>\n",
       "      <td>0</td>\n",
       "      <td>1</td>\n",
       "      <td>23</td>\n",
       "      <td>7</td>\n",
       "      <td>3</td>\n",
       "      <td>1</td>\n",
       "      <td>390.0</td>\n",
       "      <td>...</td>\n",
       "      <td>153.0</td>\n",
       "      <td>331.0</td>\n",
       "      <td>71.0</td>\n",
       "      <td>64.0</td>\n",
       "      <td>32</td>\n",
       "      <td>7</td>\n",
       "      <td>3200000.0</td>\n",
       "      <td>1100000</td>\n",
       "      <td>1.0</td>\n",
       "      <td>87.868800</td>\n",
       "    </tr>\n",
       "    <tr>\n",
       "      <td>5</td>\n",
       "      <td>2</td>\n",
       "      <td>1</td>\n",
       "      <td>2</td>\n",
       "      <td>0</td>\n",
       "      <td>3</td>\n",
       "      <td>35</td>\n",
       "      <td>9</td>\n",
       "      <td>0</td>\n",
       "      <td>3</td>\n",
       "      <td>389.0</td>\n",
       "      <td>...</td>\n",
       "      <td>86.0</td>\n",
       "      <td>216.0</td>\n",
       "      <td>94.0</td>\n",
       "      <td>38.0</td>\n",
       "      <td>5</td>\n",
       "      <td>5</td>\n",
       "      <td>4600000.0</td>\n",
       "      <td>1900000</td>\n",
       "      <td>2.0</td>\n",
       "      <td>49.518345</td>\n",
       "    </tr>\n",
       "    <tr>\n",
       "      <td>...</td>\n",
       "      <td>...</td>\n",
       "      <td>...</td>\n",
       "      <td>...</td>\n",
       "      <td>...</td>\n",
       "      <td>...</td>\n",
       "      <td>...</td>\n",
       "      <td>...</td>\n",
       "      <td>...</td>\n",
       "      <td>...</td>\n",
       "      <td>...</td>\n",
       "      <td>...</td>\n",
       "      <td>...</td>\n",
       "      <td>...</td>\n",
       "      <td>...</td>\n",
       "      <td>...</td>\n",
       "      <td>...</td>\n",
       "      <td>...</td>\n",
       "      <td>...</td>\n",
       "      <td>...</td>\n",
       "      <td>...</td>\n",
       "      <td>...</td>\n",
       "    </tr>\n",
       "    <tr>\n",
       "      <td>10708</td>\n",
       "      <td>4</td>\n",
       "      <td>1</td>\n",
       "      <td>8</td>\n",
       "      <td>2</td>\n",
       "      <td>1</td>\n",
       "      <td>35</td>\n",
       "      <td>11</td>\n",
       "      <td>1</td>\n",
       "      <td>2</td>\n",
       "      <td>397.0</td>\n",
       "      <td>...</td>\n",
       "      <td>150.0</td>\n",
       "      <td>337.0</td>\n",
       "      <td>69.0</td>\n",
       "      <td>44.0</td>\n",
       "      <td>31</td>\n",
       "      <td>3</td>\n",
       "      <td>3300000.0</td>\n",
       "      <td>1400000</td>\n",
       "      <td>2.0</td>\n",
       "      <td>53.741750</td>\n",
       "    </tr>\n",
       "    <tr>\n",
       "      <td>10709</td>\n",
       "      <td>0</td>\n",
       "      <td>0</td>\n",
       "      <td>8</td>\n",
       "      <td>2</td>\n",
       "      <td>1</td>\n",
       "      <td>20</td>\n",
       "      <td>14</td>\n",
       "      <td>3</td>\n",
       "      <td>1</td>\n",
       "      <td>134.0</td>\n",
       "      <td>...</td>\n",
       "      <td>24.0</td>\n",
       "      <td>209.0</td>\n",
       "      <td>61.0</td>\n",
       "      <td>56.0</td>\n",
       "      <td>35</td>\n",
       "      <td>7</td>\n",
       "      <td>4000000.0</td>\n",
       "      <td>300000</td>\n",
       "      <td>0.0</td>\n",
       "      <td>41.981760</td>\n",
       "    </tr>\n",
       "    <tr>\n",
       "      <td>10711</td>\n",
       "      <td>2</td>\n",
       "      <td>1</td>\n",
       "      <td>8</td>\n",
       "      <td>2</td>\n",
       "      <td>1</td>\n",
       "      <td>59</td>\n",
       "      <td>3</td>\n",
       "      <td>0</td>\n",
       "      <td>3</td>\n",
       "      <td>177.0</td>\n",
       "      <td>...</td>\n",
       "      <td>151.0</td>\n",
       "      <td>296.0</td>\n",
       "      <td>87.0</td>\n",
       "      <td>37.0</td>\n",
       "      <td>16</td>\n",
       "      <td>5</td>\n",
       "      <td>3000000.0</td>\n",
       "      <td>2100000</td>\n",
       "      <td>2.0</td>\n",
       "      <td>47.708533</td>\n",
       "    </tr>\n",
       "    <tr>\n",
       "      <td>10712</td>\n",
       "      <td>5</td>\n",
       "      <td>2</td>\n",
       "      <td>8</td>\n",
       "      <td>2</td>\n",
       "      <td>0</td>\n",
       "      <td>49</td>\n",
       "      <td>6</td>\n",
       "      <td>2</td>\n",
       "      <td>0</td>\n",
       "      <td>352.0</td>\n",
       "      <td>...</td>\n",
       "      <td>110.0</td>\n",
       "      <td>253.0</td>\n",
       "      <td>56.0</td>\n",
       "      <td>70.0</td>\n",
       "      <td>28</td>\n",
       "      <td>5</td>\n",
       "      <td>2900000.0</td>\n",
       "      <td>700000</td>\n",
       "      <td>1.0</td>\n",
       "      <td>53.803565</td>\n",
       "    </tr>\n",
       "    <tr>\n",
       "      <td>10713</td>\n",
       "      <td>0</td>\n",
       "      <td>0</td>\n",
       "      <td>8</td>\n",
       "      <td>2</td>\n",
       "      <td>1</td>\n",
       "      <td>17</td>\n",
       "      <td>7</td>\n",
       "      <td>3</td>\n",
       "      <td>1</td>\n",
       "      <td>181.0</td>\n",
       "      <td>...</td>\n",
       "      <td>134.0</td>\n",
       "      <td>201.0</td>\n",
       "      <td>82.0</td>\n",
       "      <td>60.0</td>\n",
       "      <td>4</td>\n",
       "      <td>3</td>\n",
       "      <td>2100000.0</td>\n",
       "      <td>1400000</td>\n",
       "      <td>0.0</td>\n",
       "      <td>68.342400</td>\n",
       "    </tr>\n",
       "  </tbody>\n",
       "</table>\n",
       "<p>6777 rows × 21 columns</p>\n",
       "</div>"
      ],
      "text/plain": [
       "       Occupation  Mode_transport  cases/1M  Deaths/1M  comorbidity  Age  \\\n",
       "0               4               1         2          0            2   68   \n",
       "2               1               1         2          0            3   19   \n",
       "3               3               0         2          0            0   33   \n",
       "4               6               0         2          0            1   23   \n",
       "5               2               1         2          0            3   35   \n",
       "...           ...             ...       ...        ...          ...  ...   \n",
       "10708           4               1         8          2            1   35   \n",
       "10709           0               0         8          2            1   20   \n",
       "10711           2               1         8          2            1   59   \n",
       "10712           5               2         8          2            0   49   \n",
       "10713           0               0         8          2            1   17   \n",
       "\n",
       "       Coma score  Pulmonary score  cardiological pressure  Diuresis  ...  \\\n",
       "0               8                3                       1     441.0  ...   \n",
       "2              13                2                       0     416.0  ...   \n",
       "3               9                1                       2     410.0  ...   \n",
       "4               7                3                       1     390.0  ...   \n",
       "5               9                0                       3     389.0  ...   \n",
       "...           ...              ...                     ...       ...  ...   \n",
       "10708          11                1                       2     397.0  ...   \n",
       "10709          14                3                       1     134.0  ...   \n",
       "10711           3                0                       3     177.0  ...   \n",
       "10712           6                2                       0     352.0  ...   \n",
       "10713           7                3                       1     181.0  ...   \n",
       "\n",
       "         HBB  d-dimer  Heart rate  HDL cholesterol  Charlson Index  \\\n",
       "0       93.0    233.0        82.0             58.0              27   \n",
       "2      137.0    213.0        77.0             43.0              40   \n",
       "3      167.0    275.0        64.0             60.0              27   \n",
       "4      153.0    331.0        71.0             64.0              32   \n",
       "5       86.0    216.0        94.0             38.0               5   \n",
       "...      ...      ...         ...              ...             ...   \n",
       "10708  150.0    337.0        69.0             44.0              31   \n",
       "10709   24.0    209.0        61.0             56.0              35   \n",
       "10711  151.0    296.0        87.0             37.0              16   \n",
       "10712  110.0    253.0        56.0             70.0              28   \n",
       "10713  134.0    201.0        82.0             60.0               4   \n",
       "\n",
       "       Blood Glucose  Insurance   salary  FT/month  Infect_Prob  \n",
       "0                  7  3600000.0  1300000       2.0    49.135010  \n",
       "2                  6  3400000.0   900000       1.0    73.224000  \n",
       "3                  7   700000.0  2300000       1.0    48.779225  \n",
       "4                  7  3200000.0  1100000       1.0    87.868800  \n",
       "5                  5  4600000.0  1900000       2.0    49.518345  \n",
       "...              ...        ...      ...       ...          ...  \n",
       "10708              3  3300000.0  1400000       2.0    53.741750  \n",
       "10709              7  4000000.0   300000       0.0    41.981760  \n",
       "10711              5  3000000.0  2100000       2.0    47.708533  \n",
       "10712              5  2900000.0   700000       1.0    53.803565  \n",
       "10713              3  2100000.0  1400000       0.0    68.342400  \n",
       "\n",
       "[6777 rows x 21 columns]"
      ]
     },
     "execution_count": 478,
     "metadata": {},
     "output_type": "execute_result"
    }
   ],
   "source": [
    "le=preprocessing.LabelEncoder()\n",
    "ls=[0,1,4,7,8]\n",
    "for i in ls:   \n",
    "    df.iloc[:,i]=le.fit_transform(df.iloc[:,i])\n",
    "df"
   ]
  },
  {
   "cell_type": "code",
   "execution_count": 479,
   "metadata": {},
   "outputs": [
    {
     "name": "stdout",
     "output_type": "stream",
     "text": [
      "(6777, 30)\n",
      "(6777, 33)\n",
      "(6777, 37)\n",
      "(6777, 41)\n",
      "(6777, 45)\n"
     ]
    }
   ],
   "source": [
    "#oe=preprocessing.OneHotEncoder(categorical_features=[0])\n",
    "ls=[0,1,4,7,8]\n",
    "for i in ls: \n",
    "    df = concat([df,get_dummies(df[df.columns[i]], prefix=df.columns[i])],axis=1)\n",
    "    print(df.shape)\n",
    "    #df.drop([df.columns[i]],axis=1, inplace=True)"
   ]
  },
  {
   "cell_type": "code",
   "execution_count": 480,
   "metadata": {},
   "outputs": [
    {
     "name": "stdout",
     "output_type": "stream",
     "text": [
      "Index(['cases/1M', 'Deaths/1M', 'Age', 'Coma score', 'Diuresis', 'Platelets',\n",
      "       'HBB', 'd-dimer', 'Heart rate', 'HDL cholesterol', 'Charlson Index',\n",
      "       'Blood Glucose', 'Insurance', 'salary', 'FT/month', 'Infect_Prob',\n",
      "       'Occupation_0', 'Occupation_1', 'Occupation_2', 'Occupation_3',\n",
      "       'Occupation_4', 'Occupation_5', 'Occupation_6', 'Occupation_7',\n",
      "       'Occupation_8', 'Mode_transport_0', 'Mode_transport_1',\n",
      "       'Mode_transport_2', 'comorbidity_0', 'comorbidity_1', 'comorbidity_2',\n",
      "       'comorbidity_3', 'Pulmonary score_0', 'Pulmonary score_1',\n",
      "       'Pulmonary score_2', 'Pulmonary score_3', 'cardiological pressure_0',\n",
      "       'cardiological pressure_1', 'cardiological pressure_2',\n",
      "       'cardiological pressure_3'],\n",
      "      dtype='object')\n"
     ]
    }
   ],
   "source": [
    "df.drop(['Occupation','Mode_transport','comorbidity','Pulmonary score','cardiological pressure'],axis=1, inplace=True)\n",
    "print(df.columns)"
   ]
  },
  {
   "cell_type": "code",
   "execution_count": 485,
   "metadata": {},
   "outputs": [
    {
     "name": "stdout",
     "output_type": "stream",
     "text": [
      "0        49.135010\n",
      "2        73.224000\n",
      "3        48.779225\n",
      "4        87.868800\n",
      "5        49.518345\n",
      "           ...    \n",
      "10708    53.741750\n",
      "10709    41.981760\n",
      "10711    47.708533\n",
      "10712    53.803565\n",
      "10713    68.342400\n",
      "Name: Infect_Prob, Length: 6777, dtype: float64\n"
     ]
    }
   ],
   "source": [
    "x=concat([df.iloc[:,:15],df.iloc[:,16:]],axis=1)\n",
    "y=df.iloc[:,15]\n",
    "print(y)"
   ]
  },
  {
   "cell_type": "code",
   "execution_count": 486,
   "metadata": {},
   "outputs": [],
   "source": [
    "#from sklearn.preprocessing import StandardScaler\n",
    "#sc = StandardScaler()\n",
    "#x = sc.fit_transform(x)\n"
   ]
  },
  {
   "cell_type": "code",
   "execution_count": 487,
   "metadata": {},
   "outputs": [
    {
     "data": {
      "text/plain": [
       "LinearRegression(copy_X=True, fit_intercept=True, n_jobs=None, normalize=False)"
      ]
     },
     "execution_count": 487,
     "metadata": {},
     "output_type": "execute_result"
    }
   ],
   "source": [
    "from sklearn.model_selection import train_test_split\n",
    "X_train, X_test, y_train, y_test = train_test_split(x, y, test_size=0.315, random_state=101)\n",
    "from sklearn.linear_model import LinearRegression\n",
    "lm = LinearRegression()\n",
    "lm.fit(X_train,y_train)"
   ]
  },
  {
   "cell_type": "code",
   "execution_count": 488,
   "metadata": {},
   "outputs": [
    {
     "data": {
      "text/plain": [
       "Text(0, 0.5, 'Predicted Y')"
      ]
     },
     "execution_count": 488,
     "metadata": {},
     "output_type": "execute_result"
    },
    {
     "data": {
      "image/png": "[encoded data removed]",
      "text/plain": [
       "<Figure size 432x288 with 1 Axes>"
      ]
     },
     "metadata": {
      "needs_background": "light"
     },
     "output_type": "display_data"
    }
   ],
   "source": [
    "predictions1 = lm.predict( X_test)\n",
    "scatter(y_test,predictions1)\n",
    "xlabel('Y Test')\n",
    "ylabel('Predicted Y')"
   ]
  },
  {
   "cell_type": "code",
   "execution_count": 489,
   "metadata": {},
   "outputs": [
    {
     "name": "stdout",
     "output_type": "stream",
     "text": [
      "MAE: 5.952210021122175\n",
      "MSE: 91.38877859171768\n",
      "RMSE: 9.559747830969062\n"
     ]
    },
    {
     "data": {
      "text/plain": [
       "0.21235733471853302"
      ]
     },
     "execution_count": 489,
     "metadata": {},
     "output_type": "execute_result"
    }
   ],
   "source": [
    "print('MAE:', mean_absolute_error(y_test, predictions1))\n",
    "print('MSE:', mean_squared_error(y_test, predictions1))\n",
    "print('RMSE:', sqrt(mean_squared_error(y_test, predictions1)))\n",
    "r2_score(y_test, predictions1)"
   ]
  },
  {
   "cell_type": "code",
   "execution_count": 490,
   "metadata": {},
   "outputs": [
    {
     "name": "stdout",
     "output_type": "stream",
     "text": [
      "(2135, 39)\n"
     ]
    }
   ],
   "source": [
    "from sklearn.linear_model import Ridge\n",
    "ridge = Ridge(alpha=1.0)\n",
    "ridge.fit(X_train,y_train)\n",
    "print(X_test.shape)"
   ]
  },
  {
   "cell_type": "code",
   "execution_count": 491,
   "metadata": {},
   "outputs": [
    {
     "data": {
      "text/plain": [
       "Text(0, 0.5, 'Predicted Y')"
      ]
     },
     "execution_count": 491,
     "metadata": {},
     "output_type": "execute_result"
    },
    {
     "data": {
      "image/png": "[encoded data removed]",
      "text/plain": [
       "<Figure size 432x288 with 1 Axes>"
      ]
     },
     "metadata": {
      "needs_background": "light"
     },
     "output_type": "display_data"
    }
   ],
   "source": [
    "predictions2 = ridge.predict(X_test)\n",
    "scatter(y_test,predictions2)\n",
    "xlabel('Y Test')\n",
    "ylabel('Predicted Y')"
   ]
  },
  {
   "cell_type": "code",
   "execution_count": 492,
   "metadata": {},
   "outputs": [
    {
     "name": "stdout",
     "output_type": "stream",
     "text": [
      "MAE: 5.952120551332924\n",
      "MSE: 91.38874013373824\n",
      "RMSE: 9.559745819515195\n"
     ]
    },
    {
     "data": {
      "text/plain": [
       "0.21235766617219598"
      ]
     },
     "execution_count": 492,
     "metadata": {},
     "output_type": "execute_result"
    }
   ],
   "source": [
    "print('MAE:', mean_absolute_error(y_test, predictions2))\n",
    "print('MSE:', mean_squared_error(y_test, predictions2))\n",
    "print('RMSE:', sqrt(mean_squared_error(y_test, predictions2)))\n",
    "r2_score(y_test, predictions2)"
   ]
  },
  {
   "cell_type": "code",
   "execution_count": 493,
   "metadata": {},
   "outputs": [
    {
     "data": {
      "text/plain": [
       "Lasso(alpha=1.0, copy_X=True, fit_intercept=True, max_iter=1000,\n",
       "      normalize=False, positive=False, precompute=False, random_state=None,\n",
       "      selection='cyclic', tol=0.0001, warm_start=False)"
      ]
     },
     "execution_count": 493,
     "metadata": {},
     "output_type": "execute_result"
    }
   ],
   "source": [
    "from sklearn.linear_model import Lasso\n",
    "las = Lasso(alpha=1.0)\n",
    "las.fit(X_train,y_train)"
   ]
  },
  {
   "cell_type": "code",
   "execution_count": 494,
   "metadata": {},
   "outputs": [
    {
     "data": {
      "text/plain": [
       "Text(0, 0.5, 'Predicted Y')"
      ]
     },
     "execution_count": 494,
     "metadata": {},
     "output_type": "execute_result"
    },
    {
     "data": {
      "image/png": "[encoded data removed]",
      "text/plain": [
       "<Figure size 432x288 with 1 Axes>"
      ]
     },
     "metadata": {
      "needs_background": "light"
     },
     "output_type": "display_data"
    }
   ],
   "source": [
    "predictions3 = las.predict(X_test)\n",
    "scatter(y_test,predictions3)\n",
    "xlabel('Y Test')\n",
    "ylabel('Predicted Y')"
   ]
  },
  {
   "cell_type": "code",
   "execution_count": 495,
   "metadata": {},
   "outputs": [
    {
     "name": "stdout",
     "output_type": "stream",
     "text": [
      "MAE: 5.899351722709104\n",
      "MSE: 91.51404173547574\n",
      "RMSE: 9.566297179968629\n"
     ]
    },
    {
     "data": {
      "text/plain": [
       "0.21127774269496602"
      ]
     },
     "execution_count": 495,
     "metadata": {},
     "output_type": "execute_result"
    }
   ],
   "source": [
    "print('MAE:', mean_absolute_error(y_test, predictions3))\n",
    "print('MSE:', mean_squared_error(y_test, predictions3))\n",
    "print('RMSE:', sqrt(mean_squared_error(y_test, predictions3)))\n",
    "r2_score(y_test, predictions3)"
   ]
  },
  {
   "cell_type": "code",
   "execution_count": 537,
   "metadata": {},
   "outputs": [
    {
     "name": "stdout",
     "output_type": "stream",
     "text": [
      "(14498, 27)\n",
      "      Occupation Mode_transport  cases/1M  Deaths/1M             comorbidity  \\\n",
      "0         Driver         Public         4          1                Diabetes   \n",
      "1          Legal           Walk         4          1                Diabetes   \n",
      "2          Sales            Car         4          1                Diabetes   \n",
      "3          Sales            Car         4          1                    None   \n",
      "4       Business            Car         4          1                Diabetes   \n",
      "...          ...            ...       ...        ...                     ...   \n",
      "14493    Cleaner           Walk        11          2  Coronary Heart Disease   \n",
      "14494      Clerk            Car        11          2                    None   \n",
      "14495   Business         Public        11          2                    None   \n",
      "14496     Driver            Car        11          2  Coronary Heart Disease   \n",
      "14497     Driver         Public        11          2                Diabetes   \n",
      "\n",
      "       Age  Coma score Pulmonary score cardiological pressure  Diuresis  \\\n",
      "0       52           3            <200               Stage-01       388   \n",
      "1       53          11            <200               Stage-01       409   \n",
      "2       35           9            <100               Stage-02       440   \n",
      "3       31          12            <300               Elevated       206   \n",
      "4       51           6            <200               Stage-01       229   \n",
      "...    ...         ...             ...                    ...       ...   \n",
      "14493   55           5            <400                 Normal       417   \n",
      "14494   44           4            <300               Elevated       199   \n",
      "14495   46           6            <300               Elevated       161   \n",
      "14496   34           5            <200               Stage-01       174   \n",
      "14497   27           4            <200               Stage-01       126   \n",
      "\n",
      "       Platelets  HBB  d-dimer  Heart rate  HDL cholesterol  Charlson Index  \\\n",
      "0            153  196      240          85               53              17   \n",
      "1             95  138      241          81               61               2   \n",
      "2             40  166      236          88               47              24   \n",
      "3             78   83      211          87               52              13   \n",
      "4            109  207      312          94               68              39   \n",
      "...          ...  ...      ...         ...              ...             ...   \n",
      "14493         16   36      346          66               45              34   \n",
      "14494         22   29      278          94               37              23   \n",
      "14495         15   28      294          73               56               6   \n",
      "14496         31   24      227          83               60              32   \n",
      "14497         16   63      282          80               59              15   \n",
      "\n",
      "       Blood Glucose  Insurance   salary  FT/month  \n",
      "0                  3    3900000  1300000         1  \n",
      "1                  5    1800000  1300000         1  \n",
      "2                  3    5000000  2000000         2  \n",
      "3                  6    3100000   600000         2  \n",
      "4                  5    2300000  1500000         1  \n",
      "...              ...        ...      ...       ...  \n",
      "14493              3    4200000   800000         2  \n",
      "14494              6    4500000  1800000         2  \n",
      "14495              6    4300000   800000         1  \n",
      "14496              7    2400000  1800000         2  \n",
      "14497              4    1400000  1000000         0  \n",
      "\n",
      "[14498 rows x 20 columns]\n"
     ]
    }
   ],
   "source": [
    "df1=read_excel('Test_dataset.xlsx')\n",
    "print(df1.shape)\n",
    "\n",
    "df1=df1.drop(['people_ID','Gender','Region','Designation','Name','Married','Children'],axis=1)\n",
    "print(df1)"
   ]
  },
  {
   "cell_type": "code",
   "execution_count": 538,
   "metadata": {},
   "outputs": [
    {
     "name": "stdout",
     "output_type": "stream",
     "text": [
      "Occupation                False\n",
      "Mode_transport            False\n",
      "cases/1M                  False\n",
      "Deaths/1M                 False\n",
      "comorbidity               False\n",
      "Age                       False\n",
      "Coma score                False\n",
      "Pulmonary score           False\n",
      "cardiological pressure    False\n",
      "Diuresis                  False\n",
      "Platelets                 False\n",
      "HBB                       False\n",
      "d-dimer                   False\n",
      "Heart rate                False\n",
      "HDL cholesterol           False\n",
      "Charlson Index            False\n",
      "Blood Glucose             False\n",
      "Insurance                 False\n",
      "salary                    False\n",
      "FT/month                  False\n",
      "dtype: bool\n",
      "(14498, 29)\n",
      "(14498, 32)\n",
      "(14498, 36)\n",
      "(14498, 40)\n",
      "(14498, 44)\n",
      "Index(['cases/1M', 'Deaths/1M', 'Age', 'Coma score', 'Diuresis', 'Platelets',\n",
      "       'HBB', 'd-dimer', 'Heart rate', 'HDL cholesterol', 'Charlson Index',\n",
      "       'Blood Glucose', 'Insurance', 'salary', 'FT/month', 'Occupation_0',\n",
      "       'Occupation_1', 'Occupation_2', 'Occupation_3', 'Occupation_4',\n",
      "       'Occupation_5', 'Occupation_6', 'Occupation_7', 'Occupation_8',\n",
      "       'Mode_transport_0', 'Mode_transport_1', 'Mode_transport_2',\n",
      "       'comorbidity_0', 'comorbidity_1', 'comorbidity_2', 'comorbidity_3',\n",
      "       'Pulmonary score_0', 'Pulmonary score_1', 'Pulmonary score_2',\n",
      "       'Pulmonary score_3', 'cardiological pressure_0',\n",
      "       'cardiological pressure_1', 'cardiological pressure_2',\n",
      "       'cardiological pressure_3'],\n",
      "      dtype='object')\n"
     ]
    }
   ],
   "source": [
    "print(df1.isnull().any())\n",
    "le=preprocessing.LabelEncoder()\n",
    "ls=[0,1,4,7,8]\n",
    "for i in ls:   \n",
    "    df1.iloc[:,i]=le.fit_transform(df1.iloc[:,i])\n",
    "\n",
    "for i in ls: \n",
    "    df1 = concat([df1,get_dummies(df1[df1.columns[i]], prefix=df1.columns[i])],axis=1)\n",
    "    print(df1.shape)\n",
    "df1.drop(['Occupation','Mode_transport','comorbidity','Pulmonary score','cardiological pressure'],axis=1, inplace=True)\n",
    "print(df1.columns)\n",
    "\n"
   ]
  },
  {
   "cell_type": "code",
   "execution_count": 539,
   "metadata": {},
   "outputs": [
    {
     "name": "stdout",
     "output_type": "stream",
     "text": [
      "       cases/1M  Deaths/1M  Age  Coma score  Diuresis  Platelets  HBB  \\\n",
      "0             4          1   52           3       388        153  196   \n",
      "1             4          1   53          11       409         95  138   \n",
      "2             4          1   35           9       440         40  166   \n",
      "3             4          1   31          12       206         78   83   \n",
      "4             4          1   51           6       229        109  207   \n",
      "...         ...        ...  ...         ...       ...        ...  ...   \n",
      "14493        11          2   55           5       417         16   36   \n",
      "14494        11          2   44           4       199         22   29   \n",
      "14495        11          2   46           6       161         15   28   \n",
      "14496        11          2   34           5       174         31   24   \n",
      "14497        11          2   27           4       126         16   63   \n",
      "\n",
      "       d-dimer  Heart rate  HDL cholesterol  ...  comorbidity_2  \\\n",
      "0          240          85               53  ...              0   \n",
      "1          241          81               61  ...              0   \n",
      "2          236          88               47  ...              0   \n",
      "3          211          87               52  ...              0   \n",
      "4          312          94               68  ...              0   \n",
      "...        ...         ...              ...  ...            ...   \n",
      "14493      346          66               45  ...              0   \n",
      "14494      278          94               37  ...              0   \n",
      "14495      294          73               56  ...              0   \n",
      "14496      227          83               60  ...              0   \n",
      "14497      282          80               59  ...              0   \n",
      "\n",
      "       comorbidity_3  Pulmonary score_0  Pulmonary score_1  Pulmonary score_2  \\\n",
      "0                  0                  0                  1                  0   \n",
      "1                  0                  0                  1                  0   \n",
      "2                  0                  1                  0                  0   \n",
      "3                  1                  0                  0                  1   \n",
      "4                  0                  0                  1                  0   \n",
      "...              ...                ...                ...                ...   \n",
      "14493              0                  0                  0                  0   \n",
      "14494              1                  0                  0                  1   \n",
      "14495              1                  0                  0                  1   \n",
      "14496              0                  0                  1                  0   \n",
      "14497              0                  0                  1                  0   \n",
      "\n",
      "       Pulmonary score_3  cardiological pressure_0  cardiological pressure_1  \\\n",
      "0                      0                         0                         0   \n",
      "1                      0                         0                         0   \n",
      "2                      0                         0                         0   \n",
      "3                      0                         1                         0   \n",
      "4                      0                         0                         0   \n",
      "...                  ...                       ...                       ...   \n",
      "14493                  1                         0                         1   \n",
      "14494                  0                         1                         0   \n",
      "14495                  0                         1                         0   \n",
      "14496                  0                         0                         0   \n",
      "14497                  0                         0                         0   \n",
      "\n",
      "       cardiological pressure_2  cardiological pressure_3  \n",
      "0                             1                         0  \n",
      "1                             1                         0  \n",
      "2                             0                         1  \n",
      "3                             0                         0  \n",
      "4                             1                         0  \n",
      "...                         ...                       ...  \n",
      "14493                         0                         0  \n",
      "14494                         0                         0  \n",
      "14495                         0                         0  \n",
      "14496                         1                         0  \n",
      "14497                         1                         0  \n",
      "\n",
      "[14498 rows x 39 columns]\n"
     ]
    }
   ],
   "source": [
    "print(df1)\n",
    "result = lm.predict(df1)\n",
    "result=DataFrame(result,columns=['Infec_Prob'])\n"
   ]
  },
  {
   "cell_type": "code",
   "execution_count": 540,
   "metadata": {},
   "outputs": [],
   "source": [
    "df2=read_excel('Test_dataset.xlsx')\n",
    "r=concat([df2.iloc[:,0],result],axis=1)\n",
    "r.to_csv('march20Th.csv', index=False)  "
   ]
  },
  {
   "cell_type": "code",
   "execution_count": 542,
   "metadata": {},
   "outputs": [
    {
     "name": "stdout",
     "output_type": "stream",
     "text": [
      "       people_ID  Infec_Prob\n",
      "0           5942   51.810210\n",
      "1          18664   50.415164\n",
      "2           5603   53.718921\n",
      "3           5649   56.557230\n",
      "4           5099   50.827930\n",
      "...          ...         ...\n",
      "14493      23737   50.154685\n",
      "14494      11171   52.664384\n",
      "14495      23243   53.366986\n",
      "14496      11199   56.312660\n",
      "14497      10787   59.277617\n",
      "\n",
      "[14498 rows x 2 columns]\n"
     ]
    }
   ],
   "source": [
    "print(r)"
   ]
  },
  {
   "cell_type": "code",
   "execution_count": 269,
   "metadata": {},
   "outputs": [
    {
     "name": "stderr",
     "output_type": "stream",
     "text": [
      "/home/devi/anaconda3/lib/python3.7/site-packages/sklearn/model_selection/_validation.py:530: FutureWarning: From version 0.22, errors during fit will result in a cross validation score of NaN by default. Use error_score='raise' if you want an exception raised or error_score=np.nan to adopt the behavior from version 0.22.\n",
      "  FutureWarning)\n"
     ]
    },
    {
     "ename": "ValueError",
     "evalue": "Error when checking input: expected dense_17_input to have shape (38,) but got array with shape (45,)",
     "output_type": "error",
     "traceback": [
      "\u001b[0;31m---------------------------------------------------------------------------\u001b[0m",
      "\u001b[0;31mValueError\u001b[0m                                Traceback (most recent call last)",
      "\u001b[0;32m<ipython-input-269-9fa67744d175>\u001b[0m in \u001b[0;36m<module>\u001b[0;34m\u001b[0m\n\u001b[0;32m----> 1\u001b[0;31m \u001b[0mresults\u001b[0m \u001b[0;34m=\u001b[0m \u001b[0mcross_val_score\u001b[0m\u001b[0;34m(\u001b[0m\u001b[0mpipeline\u001b[0m\u001b[0;34m,\u001b[0m \u001b[0mX_train\u001b[0m\u001b[0;34m,\u001b[0m \u001b[0my_train\u001b[0m\u001b[0;34m,\u001b[0m \u001b[0mcv\u001b[0m\u001b[0;34m=\u001b[0m\u001b[0mkfold\u001b[0m\u001b[0;34m)\u001b[0m\u001b[0;34m\u001b[0m\u001b[0;34m\u001b[0m\u001b[0m\n\u001b[0m\u001b[1;32m      2\u001b[0m \u001b[0mprint\u001b[0m\u001b[0;34m(\u001b[0m\u001b[0;34m\"Wider: %.2f (%.2f) MSE\"\u001b[0m \u001b[0;34m%\u001b[0m \u001b[0;34m(\u001b[0m\u001b[0mresults\u001b[0m\u001b[0;34m.\u001b[0m\u001b[0mmean\u001b[0m\u001b[0;34m(\u001b[0m\u001b[0;34m)\u001b[0m\u001b[0;34m,\u001b[0m \u001b[0mresults\u001b[0m\u001b[0;34m.\u001b[0m\u001b[0mstd\u001b[0m\u001b[0;34m(\u001b[0m\u001b[0;34m)\u001b[0m\u001b[0;34m)\u001b[0m\u001b[0;34m)\u001b[0m\u001b[0;34m\u001b[0m\u001b[0;34m\u001b[0m\u001b[0m\n",
      "\u001b[0;32m~/anaconda3/lib/python3.7/site-packages/sklearn/model_selection/_validation.py\u001b[0m in \u001b[0;36mcross_val_score\u001b[0;34m(estimator, X, y, groups, scoring, cv, n_jobs, verbose, fit_params, pre_dispatch, error_score)\u001b[0m\n\u001b[1;32m    389\u001b[0m                                 \u001b[0mfit_params\u001b[0m\u001b[0;34m=\u001b[0m\u001b[0mfit_params\u001b[0m\u001b[0;34m,\u001b[0m\u001b[0;34m\u001b[0m\u001b[0;34m\u001b[0m\u001b[0m\n\u001b[1;32m    390\u001b[0m                                 \u001b[0mpre_dispatch\u001b[0m\u001b[0;34m=\u001b[0m\u001b[0mpre_dispatch\u001b[0m\u001b[0;34m,\u001b[0m\u001b[0;34m\u001b[0m\u001b[0;34m\u001b[0m\u001b[0m\n\u001b[0;32m--> 391\u001b[0;31m                                 error_score=error_score)\n\u001b[0m\u001b[1;32m    392\u001b[0m     \u001b[0;32mreturn\u001b[0m \u001b[0mcv_results\u001b[0m\u001b[0;34m[\u001b[0m\u001b[0;34m'test_score'\u001b[0m\u001b[0;34m]\u001b[0m\u001b[0;34m\u001b[0m\u001b[0;34m\u001b[0m\u001b[0m\n\u001b[1;32m    393\u001b[0m \u001b[0;34m\u001b[0m\u001b[0m\n",
      "\u001b[0;32m~/anaconda3/lib/python3.7/site-packages/sklearn/model_selection/_validation.py\u001b[0m in \u001b[0;36mcross_validate\u001b[0;34m(estimator, X, y, groups, scoring, cv, n_jobs, verbose, fit_params, pre_dispatch, return_train_score, return_estimator, error_score)\u001b[0m\n\u001b[1;32m    230\u001b[0m             \u001b[0mreturn_times\u001b[0m\u001b[0;34m=\u001b[0m\u001b[0;32mTrue\u001b[0m\u001b[0;34m,\u001b[0m \u001b[0mreturn_estimator\u001b[0m\u001b[0;34m=\u001b[0m\u001b[0mreturn_estimator\u001b[0m\u001b[0;34m,\u001b[0m\u001b[0;34m\u001b[0m\u001b[0;34m\u001b[0m\u001b[0m\n\u001b[1;32m    231\u001b[0m             error_score=error_score)\n\u001b[0;32m--> 232\u001b[0;31m         for train, test in cv.split(X, y, groups))\n\u001b[0m\u001b[1;32m    233\u001b[0m \u001b[0;34m\u001b[0m\u001b[0m\n\u001b[1;32m    234\u001b[0m     \u001b[0mzipped_scores\u001b[0m \u001b[0;34m=\u001b[0m \u001b[0mlist\u001b[0m\u001b[0;34m(\u001b[0m\u001b[0mzip\u001b[0m\u001b[0;34m(\u001b[0m\u001b[0;34m*\u001b[0m\u001b[0mscores\u001b[0m\u001b[0;34m)\u001b[0m\u001b[0;34m)\u001b[0m\u001b[0;34m\u001b[0m\u001b[0;34m\u001b[0m\u001b[0m\n",
      "\u001b[0;32m~/anaconda3/lib/python3.7/site-packages/joblib/parallel.py\u001b[0m in \u001b[0;36m__call__\u001b[0;34m(self, iterable)\u001b[0m\n\u001b[1;32m    919\u001b[0m             \u001b[0;31m# remaining jobs.\u001b[0m\u001b[0;34m\u001b[0m\u001b[0;34m\u001b[0m\u001b[0;34m\u001b[0m\u001b[0m\n\u001b[1;32m    920\u001b[0m             \u001b[0mself\u001b[0m\u001b[0;34m.\u001b[0m\u001b[0m_iterating\u001b[0m \u001b[0;34m=\u001b[0m \u001b[0;32mFalse\u001b[0m\u001b[0;34m\u001b[0m\u001b[0;34m\u001b[0m\u001b[0m\n\u001b[0;32m--> 921\u001b[0;31m             \u001b[0;32mif\u001b[0m \u001b[0mself\u001b[0m\u001b[0;34m.\u001b[0m\u001b[0mdispatch_one_batch\u001b[0m\u001b[0;34m(\u001b[0m\u001b[0miterator\u001b[0m\u001b[0;34m)\u001b[0m\u001b[0;34m:\u001b[0m\u001b[0;34m\u001b[0m\u001b[0;34m\u001b[0m\u001b[0m\n\u001b[0m\u001b[1;32m    922\u001b[0m                 \u001b[0mself\u001b[0m\u001b[0;34m.\u001b[0m\u001b[0m_iterating\u001b[0m \u001b[0;34m=\u001b[0m \u001b[0mself\u001b[0m\u001b[0;34m.\u001b[0m\u001b[0m_original_iterator\u001b[0m \u001b[0;32mis\u001b[0m \u001b[0;32mnot\u001b[0m \u001b[0;32mNone\u001b[0m\u001b[0;34m\u001b[0m\u001b[0;34m\u001b[0m\u001b[0m\n\u001b[1;32m    923\u001b[0m \u001b[0;34m\u001b[0m\u001b[0m\n",
      "\u001b[0;32m~/anaconda3/lib/python3.7/site-packages/joblib/parallel.py\u001b[0m in \u001b[0;36mdispatch_one_batch\u001b[0;34m(self, iterator)\u001b[0m\n\u001b[1;32m    757\u001b[0m                 \u001b[0;32mreturn\u001b[0m \u001b[0;32mFalse\u001b[0m\u001b[0;34m\u001b[0m\u001b[0;34m\u001b[0m\u001b[0m\n\u001b[1;32m    758\u001b[0m             \u001b[0;32melse\u001b[0m\u001b[0;34m:\u001b[0m\u001b[0;34m\u001b[0m\u001b[0;34m\u001b[0m\u001b[0m\n\u001b[0;32m--> 759\u001b[0;31m                 \u001b[0mself\u001b[0m\u001b[0;34m.\u001b[0m\u001b[0m_dispatch\u001b[0m\u001b[0;34m(\u001b[0m\u001b[0mtasks\u001b[0m\u001b[0;34m)\u001b[0m\u001b[0;34m\u001b[0m\u001b[0;34m\u001b[0m\u001b[0m\n\u001b[0m\u001b[1;32m    760\u001b[0m                 \u001b[0;32mreturn\u001b[0m \u001b[0;32mTrue\u001b[0m\u001b[0;34m\u001b[0m\u001b[0;34m\u001b[0m\u001b[0m\n\u001b[1;32m    761\u001b[0m \u001b[0;34m\u001b[0m\u001b[0m\n",
      "\u001b[0;32m~/anaconda3/lib/python3.7/site-packages/joblib/parallel.py\u001b[0m in \u001b[0;36m_dispatch\u001b[0;34m(self, batch)\u001b[0m\n\u001b[1;32m    714\u001b[0m         \u001b[0;32mwith\u001b[0m \u001b[0mself\u001b[0m\u001b[0;34m.\u001b[0m\u001b[0m_lock\u001b[0m\u001b[0;34m:\u001b[0m\u001b[0;34m\u001b[0m\u001b[0;34m\u001b[0m\u001b[0m\n\u001b[1;32m    715\u001b[0m             \u001b[0mjob_idx\u001b[0m \u001b[0;34m=\u001b[0m \u001b[0mlen\u001b[0m\u001b[0;34m(\u001b[0m\u001b[0mself\u001b[0m\u001b[0;34m.\u001b[0m\u001b[0m_jobs\u001b[0m\u001b[0;34m)\u001b[0m\u001b[0;34m\u001b[0m\u001b[0;34m\u001b[0m\u001b[0m\n\u001b[0;32m--> 716\u001b[0;31m             \u001b[0mjob\u001b[0m \u001b[0;34m=\u001b[0m \u001b[0mself\u001b[0m\u001b[0;34m.\u001b[0m\u001b[0m_backend\u001b[0m\u001b[0;34m.\u001b[0m\u001b[0mapply_async\u001b[0m\u001b[0;34m(\u001b[0m\u001b[0mbatch\u001b[0m\u001b[0;34m,\u001b[0m \u001b[0mcallback\u001b[0m\u001b[0;34m=\u001b[0m\u001b[0mcb\u001b[0m\u001b[0;34m)\u001b[0m\u001b[0;34m\u001b[0m\u001b[0;34m\u001b[0m\u001b[0m\n\u001b[0m\u001b[1;32m    717\u001b[0m             \u001b[0;31m# A job can complete so quickly than its callback is\u001b[0m\u001b[0;34m\u001b[0m\u001b[0;34m\u001b[0m\u001b[0;34m\u001b[0m\u001b[0m\n\u001b[1;32m    718\u001b[0m             \u001b[0;31m# called before we get here, causing self._jobs to\u001b[0m\u001b[0;34m\u001b[0m\u001b[0;34m\u001b[0m\u001b[0;34m\u001b[0m\u001b[0m\n",
      "\u001b[0;32m~/anaconda3/lib/python3.7/site-packages/joblib/_parallel_backends.py\u001b[0m in \u001b[0;36mapply_async\u001b[0;34m(self, func, callback)\u001b[0m\n\u001b[1;32m    180\u001b[0m     \u001b[0;32mdef\u001b[0m \u001b[0mapply_async\u001b[0m\u001b[0;34m(\u001b[0m\u001b[0mself\u001b[0m\u001b[0;34m,\u001b[0m \u001b[0mfunc\u001b[0m\u001b[0;34m,\u001b[0m \u001b[0mcallback\u001b[0m\u001b[0;34m=\u001b[0m\u001b[0;32mNone\u001b[0m\u001b[0;34m)\u001b[0m\u001b[0;34m:\u001b[0m\u001b[0;34m\u001b[0m\u001b[0;34m\u001b[0m\u001b[0m\n\u001b[1;32m    181\u001b[0m         \u001b[0;34m\"\"\"Schedule a func to be run\"\"\"\u001b[0m\u001b[0;34m\u001b[0m\u001b[0;34m\u001b[0m\u001b[0m\n\u001b[0;32m--> 182\u001b[0;31m         \u001b[0mresult\u001b[0m \u001b[0;34m=\u001b[0m \u001b[0mImmediateResult\u001b[0m\u001b[0;34m(\u001b[0m\u001b[0mfunc\u001b[0m\u001b[0;34m)\u001b[0m\u001b[0;34m\u001b[0m\u001b[0;34m\u001b[0m\u001b[0m\n\u001b[0m\u001b[1;32m    183\u001b[0m         \u001b[0;32mif\u001b[0m \u001b[0mcallback\u001b[0m\u001b[0;34m:\u001b[0m\u001b[0;34m\u001b[0m\u001b[0;34m\u001b[0m\u001b[0m\n\u001b[1;32m    184\u001b[0m             \u001b[0mcallback\u001b[0m\u001b[0;34m(\u001b[0m\u001b[0mresult\u001b[0m\u001b[0;34m)\u001b[0m\u001b[0;34m\u001b[0m\u001b[0;34m\u001b[0m\u001b[0m\n",
      "\u001b[0;32m~/anaconda3/lib/python3.7/site-packages/joblib/_parallel_backends.py\u001b[0m in \u001b[0;36m__init__\u001b[0;34m(self, batch)\u001b[0m\n\u001b[1;32m    547\u001b[0m         \u001b[0;31m# Don't delay the application, to avoid keeping the input\u001b[0m\u001b[0;34m\u001b[0m\u001b[0;34m\u001b[0m\u001b[0;34m\u001b[0m\u001b[0m\n\u001b[1;32m    548\u001b[0m         \u001b[0;31m# arguments in memory\u001b[0m\u001b[0;34m\u001b[0m\u001b[0;34m\u001b[0m\u001b[0;34m\u001b[0m\u001b[0m\n\u001b[0;32m--> 549\u001b[0;31m         \u001b[0mself\u001b[0m\u001b[0;34m.\u001b[0m\u001b[0mresults\u001b[0m \u001b[0;34m=\u001b[0m \u001b[0mbatch\u001b[0m\u001b[0;34m(\u001b[0m\u001b[0;34m)\u001b[0m\u001b[0;34m\u001b[0m\u001b[0;34m\u001b[0m\u001b[0m\n\u001b[0m\u001b[1;32m    550\u001b[0m \u001b[0;34m\u001b[0m\u001b[0m\n\u001b[1;32m    551\u001b[0m     \u001b[0;32mdef\u001b[0m \u001b[0mget\u001b[0m\u001b[0;34m(\u001b[0m\u001b[0mself\u001b[0m\u001b[0;34m)\u001b[0m\u001b[0;34m:\u001b[0m\u001b[0;34m\u001b[0m\u001b[0;34m\u001b[0m\u001b[0m\n",
      "\u001b[0;32m~/anaconda3/lib/python3.7/site-packages/joblib/parallel.py\u001b[0m in \u001b[0;36m__call__\u001b[0;34m(self)\u001b[0m\n\u001b[1;32m    223\u001b[0m         \u001b[0;32mwith\u001b[0m \u001b[0mparallel_backend\u001b[0m\u001b[0;34m(\u001b[0m\u001b[0mself\u001b[0m\u001b[0;34m.\u001b[0m\u001b[0m_backend\u001b[0m\u001b[0;34m,\u001b[0m \u001b[0mn_jobs\u001b[0m\u001b[0;34m=\u001b[0m\u001b[0mself\u001b[0m\u001b[0;34m.\u001b[0m\u001b[0m_n_jobs\u001b[0m\u001b[0;34m)\u001b[0m\u001b[0;34m:\u001b[0m\u001b[0;34m\u001b[0m\u001b[0;34m\u001b[0m\u001b[0m\n\u001b[1;32m    224\u001b[0m             return [func(*args, **kwargs)\n\u001b[0;32m--> 225\u001b[0;31m                     for func, args, kwargs in self.items]\n\u001b[0m\u001b[1;32m    226\u001b[0m \u001b[0;34m\u001b[0m\u001b[0m\n\u001b[1;32m    227\u001b[0m     \u001b[0;32mdef\u001b[0m \u001b[0m__len__\u001b[0m\u001b[0;34m(\u001b[0m\u001b[0mself\u001b[0m\u001b[0;34m)\u001b[0m\u001b[0;34m:\u001b[0m\u001b[0;34m\u001b[0m\u001b[0;34m\u001b[0m\u001b[0m\n",
      "\u001b[0;32m~/anaconda3/lib/python3.7/site-packages/joblib/parallel.py\u001b[0m in \u001b[0;36m<listcomp>\u001b[0;34m(.0)\u001b[0m\n\u001b[1;32m    223\u001b[0m         \u001b[0;32mwith\u001b[0m \u001b[0mparallel_backend\u001b[0m\u001b[0;34m(\u001b[0m\u001b[0mself\u001b[0m\u001b[0;34m.\u001b[0m\u001b[0m_backend\u001b[0m\u001b[0;34m,\u001b[0m \u001b[0mn_jobs\u001b[0m\u001b[0;34m=\u001b[0m\u001b[0mself\u001b[0m\u001b[0;34m.\u001b[0m\u001b[0m_n_jobs\u001b[0m\u001b[0;34m)\u001b[0m\u001b[0;34m:\u001b[0m\u001b[0;34m\u001b[0m\u001b[0;34m\u001b[0m\u001b[0m\n\u001b[1;32m    224\u001b[0m             return [func(*args, **kwargs)\n\u001b[0;32m--> 225\u001b[0;31m                     for func, args, kwargs in self.items]\n\u001b[0m\u001b[1;32m    226\u001b[0m \u001b[0;34m\u001b[0m\u001b[0m\n\u001b[1;32m    227\u001b[0m     \u001b[0;32mdef\u001b[0m \u001b[0m__len__\u001b[0m\u001b[0;34m(\u001b[0m\u001b[0mself\u001b[0m\u001b[0;34m)\u001b[0m\u001b[0;34m:\u001b[0m\u001b[0;34m\u001b[0m\u001b[0;34m\u001b[0m\u001b[0m\n",
      "\u001b[0;32m~/anaconda3/lib/python3.7/site-packages/sklearn/model_selection/_validation.py\u001b[0m in \u001b[0;36m_fit_and_score\u001b[0;34m(estimator, X, y, scorer, train, test, verbose, parameters, fit_params, return_train_score, return_parameters, return_n_test_samples, return_times, return_estimator, error_score)\u001b[0m\n\u001b[1;32m    514\u001b[0m             \u001b[0mestimator\u001b[0m\u001b[0;34m.\u001b[0m\u001b[0mfit\u001b[0m\u001b[0;34m(\u001b[0m\u001b[0mX_train\u001b[0m\u001b[0;34m,\u001b[0m \u001b[0;34m**\u001b[0m\u001b[0mfit_params\u001b[0m\u001b[0;34m)\u001b[0m\u001b[0;34m\u001b[0m\u001b[0;34m\u001b[0m\u001b[0m\n\u001b[1;32m    515\u001b[0m         \u001b[0;32melse\u001b[0m\u001b[0;34m:\u001b[0m\u001b[0;34m\u001b[0m\u001b[0;34m\u001b[0m\u001b[0m\n\u001b[0;32m--> 516\u001b[0;31m             \u001b[0mestimator\u001b[0m\u001b[0;34m.\u001b[0m\u001b[0mfit\u001b[0m\u001b[0;34m(\u001b[0m\u001b[0mX_train\u001b[0m\u001b[0;34m,\u001b[0m \u001b[0my_train\u001b[0m\u001b[0;34m,\u001b[0m \u001b[0;34m**\u001b[0m\u001b[0mfit_params\u001b[0m\u001b[0;34m)\u001b[0m\u001b[0;34m\u001b[0m\u001b[0;34m\u001b[0m\u001b[0m\n\u001b[0m\u001b[1;32m    517\u001b[0m \u001b[0;34m\u001b[0m\u001b[0m\n\u001b[1;32m    518\u001b[0m     \u001b[0;32mexcept\u001b[0m \u001b[0mException\u001b[0m \u001b[0;32mas\u001b[0m \u001b[0me\u001b[0m\u001b[0;34m:\u001b[0m\u001b[0;34m\u001b[0m\u001b[0;34m\u001b[0m\u001b[0m\n",
      "\u001b[0;32m~/anaconda3/lib/python3.7/site-packages/sklearn/pipeline.py\u001b[0m in \u001b[0;36mfit\u001b[0;34m(self, X, y, **fit_params)\u001b[0m\n\u001b[1;32m    354\u001b[0m                                  self._log_message(len(self.steps) - 1)):\n\u001b[1;32m    355\u001b[0m             \u001b[0;32mif\u001b[0m \u001b[0mself\u001b[0m\u001b[0;34m.\u001b[0m\u001b[0m_final_estimator\u001b[0m \u001b[0;34m!=\u001b[0m \u001b[0;34m'passthrough'\u001b[0m\u001b[0;34m:\u001b[0m\u001b[0;34m\u001b[0m\u001b[0;34m\u001b[0m\u001b[0m\n\u001b[0;32m--> 356\u001b[0;31m                 \u001b[0mself\u001b[0m\u001b[0;34m.\u001b[0m\u001b[0m_final_estimator\u001b[0m\u001b[0;34m.\u001b[0m\u001b[0mfit\u001b[0m\u001b[0;34m(\u001b[0m\u001b[0mXt\u001b[0m\u001b[0;34m,\u001b[0m \u001b[0my\u001b[0m\u001b[0;34m,\u001b[0m \u001b[0;34m**\u001b[0m\u001b[0mfit_params\u001b[0m\u001b[0;34m)\u001b[0m\u001b[0;34m\u001b[0m\u001b[0;34m\u001b[0m\u001b[0m\n\u001b[0m\u001b[1;32m    357\u001b[0m         \u001b[0;32mreturn\u001b[0m \u001b[0mself\u001b[0m\u001b[0;34m\u001b[0m\u001b[0;34m\u001b[0m\u001b[0m\n\u001b[1;32m    358\u001b[0m \u001b[0;34m\u001b[0m\u001b[0m\n",
      "\u001b[0;32m~/anaconda3/lib/python3.7/site-packages/keras/wrappers/scikit_learn.py\u001b[0m in \u001b[0;36mfit\u001b[0;34m(self, x, y, **kwargs)\u001b[0m\n\u001b[1;32m    149\u001b[0m         \u001b[0mfit_args\u001b[0m\u001b[0;34m.\u001b[0m\u001b[0mupdate\u001b[0m\u001b[0;34m(\u001b[0m\u001b[0mkwargs\u001b[0m\u001b[0;34m)\u001b[0m\u001b[0;34m\u001b[0m\u001b[0;34m\u001b[0m\u001b[0m\n\u001b[1;32m    150\u001b[0m \u001b[0;34m\u001b[0m\u001b[0m\n\u001b[0;32m--> 151\u001b[0;31m         \u001b[0mhistory\u001b[0m \u001b[0;34m=\u001b[0m \u001b[0mself\u001b[0m\u001b[0;34m.\u001b[0m\u001b[0mmodel\u001b[0m\u001b[0;34m.\u001b[0m\u001b[0mfit\u001b[0m\u001b[0;34m(\u001b[0m\u001b[0mx\u001b[0m\u001b[0;34m,\u001b[0m \u001b[0my\u001b[0m\u001b[0;34m,\u001b[0m \u001b[0;34m**\u001b[0m\u001b[0mfit_args\u001b[0m\u001b[0;34m)\u001b[0m\u001b[0;34m\u001b[0m\u001b[0;34m\u001b[0m\u001b[0m\n\u001b[0m\u001b[1;32m    152\u001b[0m \u001b[0;34m\u001b[0m\u001b[0m\n\u001b[1;32m    153\u001b[0m         \u001b[0;32mreturn\u001b[0m \u001b[0mhistory\u001b[0m\u001b[0;34m\u001b[0m\u001b[0;34m\u001b[0m\u001b[0m\n",
      "\u001b[0;32m~/anaconda3/lib/python3.7/site-packages/keras/engine/training.py\u001b[0m in \u001b[0;36mfit\u001b[0;34m(self, x, y, batch_size, epochs, verbose, callbacks, validation_split, validation_data, shuffle, class_weight, sample_weight, initial_epoch, steps_per_epoch, validation_steps, validation_freq, max_queue_size, workers, use_multiprocessing, **kwargs)\u001b[0m\n\u001b[1;32m   1152\u001b[0m             \u001b[0msample_weight\u001b[0m\u001b[0;34m=\u001b[0m\u001b[0msample_weight\u001b[0m\u001b[0;34m,\u001b[0m\u001b[0;34m\u001b[0m\u001b[0;34m\u001b[0m\u001b[0m\n\u001b[1;32m   1153\u001b[0m             \u001b[0mclass_weight\u001b[0m\u001b[0;34m=\u001b[0m\u001b[0mclass_weight\u001b[0m\u001b[0;34m,\u001b[0m\u001b[0;34m\u001b[0m\u001b[0;34m\u001b[0m\u001b[0m\n\u001b[0;32m-> 1154\u001b[0;31m             batch_size=batch_size)\n\u001b[0m\u001b[1;32m   1155\u001b[0m \u001b[0;34m\u001b[0m\u001b[0m\n\u001b[1;32m   1156\u001b[0m         \u001b[0;31m# Prepare validation data.\u001b[0m\u001b[0;34m\u001b[0m\u001b[0;34m\u001b[0m\u001b[0;34m\u001b[0m\u001b[0m\n",
      "\u001b[0;32m~/anaconda3/lib/python3.7/site-packages/keras/engine/training.py\u001b[0m in \u001b[0;36m_standardize_user_data\u001b[0;34m(self, x, y, sample_weight, class_weight, check_array_lengths, batch_size)\u001b[0m\n\u001b[1;32m    577\u001b[0m             \u001b[0mfeed_input_shapes\u001b[0m\u001b[0;34m,\u001b[0m\u001b[0;34m\u001b[0m\u001b[0;34m\u001b[0m\u001b[0m\n\u001b[1;32m    578\u001b[0m             \u001b[0mcheck_batch_axis\u001b[0m\u001b[0;34m=\u001b[0m\u001b[0;32mFalse\u001b[0m\u001b[0;34m,\u001b[0m  \u001b[0;31m# Don't enforce the batch size.\u001b[0m\u001b[0;34m\u001b[0m\u001b[0;34m\u001b[0m\u001b[0m\n\u001b[0;32m--> 579\u001b[0;31m             exception_prefix='input')\n\u001b[0m\u001b[1;32m    580\u001b[0m \u001b[0;34m\u001b[0m\u001b[0m\n\u001b[1;32m    581\u001b[0m         \u001b[0;32mif\u001b[0m \u001b[0my\u001b[0m \u001b[0;32mis\u001b[0m \u001b[0;32mnot\u001b[0m \u001b[0;32mNone\u001b[0m\u001b[0;34m:\u001b[0m\u001b[0;34m\u001b[0m\u001b[0;34m\u001b[0m\u001b[0m\n",
      "\u001b[0;32m~/anaconda3/lib/python3.7/site-packages/keras/engine/training_utils.py\u001b[0m in \u001b[0;36mstandardize_input_data\u001b[0;34m(data, names, shapes, check_batch_axis, exception_prefix)\u001b[0m\n\u001b[1;32m    143\u001b[0m                             \u001b[0;34m': expected '\u001b[0m \u001b[0;34m+\u001b[0m \u001b[0mnames\u001b[0m\u001b[0;34m[\u001b[0m\u001b[0mi\u001b[0m\u001b[0;34m]\u001b[0m \u001b[0;34m+\u001b[0m \u001b[0;34m' to have shape '\u001b[0m \u001b[0;34m+\u001b[0m\u001b[0;34m\u001b[0m\u001b[0;34m\u001b[0m\u001b[0m\n\u001b[1;32m    144\u001b[0m                             \u001b[0mstr\u001b[0m\u001b[0;34m(\u001b[0m\u001b[0mshape\u001b[0m\u001b[0;34m)\u001b[0m \u001b[0;34m+\u001b[0m \u001b[0;34m' but got array with shape '\u001b[0m \u001b[0;34m+\u001b[0m\u001b[0;34m\u001b[0m\u001b[0;34m\u001b[0m\u001b[0m\n\u001b[0;32m--> 145\u001b[0;31m                             str(data_shape))\n\u001b[0m\u001b[1;32m    146\u001b[0m     \u001b[0;32mreturn\u001b[0m \u001b[0mdata\u001b[0m\u001b[0;34m\u001b[0m\u001b[0;34m\u001b[0m\u001b[0m\n\u001b[1;32m    147\u001b[0m \u001b[0;34m\u001b[0m\u001b[0m\n",
      "\u001b[0;31mValueError\u001b[0m: Error when checking input: expected dense_17_input to have shape (38,) but got array with shape (45,)"
     ]
    }
   ],
   "source": []
  },
  {
   "cell_type": "code",
   "execution_count": null,
   "metadata": {},
   "outputs": [],
   "source": []
  },
  {
   "cell_type": "code",
   "execution_count": null,
   "metadata": {},
   "outputs": [],
   "source": []
  }
 ],
 "metadata": {
  "kernelspec": {
   "display_name": "Python 3",
   "language": "python",
   "name": "python3"
  },
  "language_info": {
   "codemirror_mode": {
    "name": "ipython",
    "version": 3
   },
   "file_extension": ".py",
   "mimetype": "text/x-python",
   "name": "python",
   "nbconvert_exporter": "python",
   "pygments_lexer": "ipython3",
   "version": "3.7.4"
  }
 },
 "nbformat": 4,
 "nbformat_minor": 2
}
